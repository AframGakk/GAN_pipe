{
 "cells": [
  {
   "cell_type": "code",
   "execution_count": 19,
   "metadata": {
    "collapsed": true,
    "pycharm": {
     "is_executing": false
    }
   },
   "outputs": [],
   "source": [
    "\n",
    "import pandas as pd\n",
    "import pickle\n",
    "import os\n",
    "import numpy as np\n"
   ]
  },
  {
   "cell_type": "code",
   "execution_count": 13,
   "outputs": [],
   "source": [
    "\n",
    "def getRecordsLocal():\n",
    "    location = '../data/wisebeat/raw_data_storage/sample_records.pkl'\n",
    "    with open(location, 'rb') as file:\n",
    "        data = pickle.load(file)\n",
    "        \n",
    "    return data\n",
    "    "
   ],
   "metadata": {
    "collapsed": false,
    "pycharm": {
     "name": "#%%\n",
     "is_executing": false
    }
   }
  },
  {
   "cell_type": "code",
   "execution_count": 16,
   "outputs": [],
   "source": [
    "dataset = pd.DataFrame(getRecordsLocal())"
   ],
   "metadata": {
    "collapsed": false,
    "pycharm": {
     "name": "#%%\n",
     "is_executing": false
    }
   }
  },
  {
   "cell_type": "code",
   "execution_count": 17,
   "outputs": [
    {
     "data": {
      "text/plain": "               names                                          locations types\n0  WRLD-Kick-1-D.wav  /Users/vilhjamurr.vilhjalmsson/Desktop/Project...  KICK\n1  WRLD-Kick-3-G.wav  /Users/vilhjamurr.vilhjalmsson/Desktop/Project...  KICK\n2  WRLD-Kick-5-A.wav  /Users/vilhjamurr.vilhjalmsson/Desktop/Project...  KICK\n3  WRLD-Kick-2-F.wav  /Users/vilhjamurr.vilhjalmsson/Desktop/Project...  KICK\n4  WRLD-Kick-6-B.wav  /Users/vilhjamurr.vilhjalmsson/Desktop/Project...  KICK\n5  WRLD-Kick-4-G.wav  /Users/vilhjamurr.vilhjalmsson/Desktop/Project...  KICK",
      "text/html": "<div>\n<style scoped>\n    .dataframe tbody tr th:only-of-type {\n        vertical-align: middle;\n    }\n\n    .dataframe tbody tr th {\n        vertical-align: top;\n    }\n\n    .dataframe thead th {\n        text-align: right;\n    }\n</style>\n<table border=\"1\" class=\"dataframe\">\n  <thead>\n    <tr style=\"text-align: right;\">\n      <th></th>\n      <th>names</th>\n      <th>locations</th>\n      <th>types</th>\n    </tr>\n  </thead>\n  <tbody>\n    <tr>\n      <td>0</td>\n      <td>WRLD-Kick-1-D.wav</td>\n      <td>/Users/vilhjamurr.vilhjalmsson/Desktop/Project...</td>\n      <td>KICK</td>\n    </tr>\n    <tr>\n      <td>1</td>\n      <td>WRLD-Kick-3-G.wav</td>\n      <td>/Users/vilhjamurr.vilhjalmsson/Desktop/Project...</td>\n      <td>KICK</td>\n    </tr>\n    <tr>\n      <td>2</td>\n      <td>WRLD-Kick-5-A.wav</td>\n      <td>/Users/vilhjamurr.vilhjalmsson/Desktop/Project...</td>\n      <td>KICK</td>\n    </tr>\n    <tr>\n      <td>3</td>\n      <td>WRLD-Kick-2-F.wav</td>\n      <td>/Users/vilhjamurr.vilhjalmsson/Desktop/Project...</td>\n      <td>KICK</td>\n    </tr>\n    <tr>\n      <td>4</td>\n      <td>WRLD-Kick-6-B.wav</td>\n      <td>/Users/vilhjamurr.vilhjalmsson/Desktop/Project...</td>\n      <td>KICK</td>\n    </tr>\n    <tr>\n      <td>5</td>\n      <td>WRLD-Kick-4-G.wav</td>\n      <td>/Users/vilhjamurr.vilhjalmsson/Desktop/Project...</td>\n      <td>KICK</td>\n    </tr>\n  </tbody>\n</table>\n</div>"
     },
     "metadata": {},
     "output_type": "execute_result",
     "execution_count": 17
    }
   ],
   "source": [
    "dataset\n",
    "\n",
    "\n"
   ],
   "metadata": {
    "collapsed": false,
    "pycharm": {
     "name": "#%%\n",
     "is_executing": false
    }
   }
  },
  {
   "cell_type": "code",
   "execution_count": null,
   "outputs": [],
   "source": [
    "\n",
    "# Setja upp label encoder á types\n"
   ],
   "metadata": {
    "collapsed": false,
    "pycharm": {
     "name": "#%%\n"
    }
   }
  },
  {
   "cell_type": "code",
   "execution_count": 20,
   "outputs": [],
   "source": [
    "\n",
    "class Config(object):\n",
    "    def __init__(self,\n",
    "                 sampling_rate=16000, audio_duration=2, n_classes=41,\n",
    "                 use_mfcc=True, n_folds=10, learning_rate=0.0001, \n",
    "                 max_epochs=50, n_mfcc=20):\n",
    "        self.sampling_rate = sampling_rate\n",
    "        self.audio_duration = audio_duration\n",
    "        self.n_classes = n_classes\n",
    "        self.use_mfcc = use_mfcc\n",
    "        self.n_mfcc = n_mfcc\n",
    "        self.n_folds = n_folds\n",
    "        self.learning_rate = learning_rate\n",
    "        self.max_epochs = max_epochs\n",
    "\n",
    "        self.audio_length = self.sampling_rate * self.audio_duration\n",
    "        if self.use_mfcc:\n",
    "            self.dim = (self.n_mfcc, 1 + int(np.floor(self.audio_length/512)), 1)\n",
    "        else:\n",
    "            self.dim = (self.audio_length, 1)\n",
    "\n",
    "config = Config()\n"
   ],
   "metadata": {
    "collapsed": false,
    "pycharm": {
     "name": "#%%\n",
     "is_executing": false
    }
   }
  },
  {
   "cell_type": "code",
   "execution_count": null,
   "outputs": [],
   "source": [
    "\n",
    "class FeatureConfig(object):\n",
    "    def __init__(self, sampling_rate=16000, audio_duration=1, mfcc_mels=20):\n",
    "        self.sampling_rate = sampling_rate\n",
    "        self.audio_duration = audio_duration\n",
    "        self.mfcc_mels = mfcc_mels\n",
    "        self.sample_length = self.sampling_rate * self.audio_duration\n",
    "        self.sample_dimension = (self.mfcc_mels, 1 + int(np.floor(self.sample_length/512)), 1)\n",
    "\n"
   ],
   "metadata": {
    "collapsed": false,
    "pycharm": {
     "name": "#%%\n"
    }
   }
  },
  {
   "cell_type": "code",
   "execution_count": null,
   "outputs": [],
   "source": [
    "\n",
    "def prepare_data(df, config, data_dir):\n",
    "    X = np.empty(shape=(df.shape[0], config.dim[0], config.dim[1], 1))\n",
    "    input_length = config.audio_length\n",
    "    for i, fname in enumerate(df.index):\n",
    "        #print(df['fname'])\n",
    "        file_path = data_dir + df['fname'][i]\n",
    "        data, _ = librosa.core.load(file_path, sr=config.sampling_rate, res_type=\"kaiser_fast\")\n",
    "\n",
    "        # Random offset / Padding\n",
    "        if len(data) > input_length:\n",
    "            max_offset = len(data) - input_length\n",
    "            offset = np.random.randint(max_offset)\n",
    "            data = data[offset:(input_length+offset)]\n",
    "        else:\n",
    "            if input_length > len(data):\n",
    "                max_offset = input_length - len(data)\n",
    "                offset = np.random.randint(max_offset)\n",
    "            else:\n",
    "                offset = 0\n",
    "            data = np.pad(data, (offset, input_length - len(data) - offset), \"constant\")\n",
    "\n",
    "        data = librosa.feature.mfcc(data, sr=config.sampling_rate, n_mfcc=config.n_mfcc)\n",
    "        data = np.expand_dims(data, axis=-1)\n",
    "        X[i,] = data\n",
    "    return X\n"
   ],
   "metadata": {
    "collapsed": false,
    "pycharm": {
     "name": "#%%\n"
    }
   }
  },
  {
   "cell_type": "code",
   "execution_count": null,
   "outputs": [],
   "source": [
    "\n",
    "def prepare_audiofeatures(df, mfcc_config):\n",
    "    features = np.empty(shape=(df.shape[0], config.dim[0], config.dim[1], 1))\n",
    "    \n"
   ],
   "metadata": {
    "collapsed": false,
    "pycharm": {
     "name": "#%%\n"
    }
   }
  }
 ],
 "metadata": {
  "language_info": {
   "codemirror_mode": {
    "name": "ipython",
    "version": 2
   },
   "file_extension": ".py",
   "mimetype": "text/x-python",
   "name": "python",
   "nbconvert_exporter": "python",
   "pygments_lexer": "ipython2",
   "version": "2.7.6"
  },
  "kernelspec": {
   "name": "python3",
   "language": "python",
   "display_name": "Python 3"
  },
  "pycharm": {
   "stem_cell": {
    "cell_type": "raw",
    "source": [],
    "metadata": {
     "collapsed": false
    }
   }
  }
 },
 "nbformat": 4,
 "nbformat_minor": 0
}